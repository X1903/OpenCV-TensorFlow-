{
 "cells": [
  {
   "cell_type": "code",
   "execution_count": 8,
   "metadata": {},
   "outputs": [
    {
     "data": {
      "text/plain": [
       "True"
      ]
     },
     "execution_count": 8,
     "metadata": {},
     "output_type": "execute_result"
    }
   ],
   "source": [
    "import cv2\n",
    "img = cv2.imread('image0.jpg', 1)\n",
    "cv2.imwrite('imageTest.jpg', img, [cv2.IMWRITE_JPEG_QUALITY, 60])  # IMWRITE_JPEG_QUALTY  图片的质量0-100\n",
    "# 1m 100k 10k 0-100 有损压缩  牺牲图片质量的代价"
   ]
  },
  {
   "cell_type": "code",
   "execution_count": 11,
   "metadata": {},
   "outputs": [
    {
     "data": {
      "text/plain": [
       "True"
      ]
     },
     "execution_count": 11,
     "metadata": {},
     "output_type": "execute_result"
    }
   ],
   "source": [
    "# png 格式的压缩\n",
    "# jpg 是有损压缩  png是无损压缩\n",
    "# jpg 不可以设置图片的透明度,  png可以设置图片的透明度\n",
    "import cv2\n",
    "img = cv2.imread('image0.jpg', 1)\n",
    "cv2.imwrite('imageTest.png', img, [cv2.IMWRITE_PNG_COMPRESSION, 9])\n",
    "# jpg 0 数字越小,压缩比越高,图片质量越差  0-100\n",
    "# png 0 数字越小, 压缩比越低   0-9"
   ]
  },
  {
   "cell_type": "code",
   "execution_count": null,
   "metadata": {},
   "outputs": [],
   "source": []
  }
 ],
 "metadata": {
  "kernelspec": {
   "display_name": "Python 3",
   "language": "python",
   "name": "python3"
  },
  "language_info": {
   "codemirror_mode": {
    "name": "ipython",
    "version": 3
   },
   "file_extension": ".py",
   "mimetype": "text/x-python",
   "name": "python",
   "nbconvert_exporter": "python",
   "pygments_lexer": "ipython3",
   "version": "3.6.3"
  }
 },
 "nbformat": 4,
 "nbformat_minor": 2
}
